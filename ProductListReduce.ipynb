{
 "cells": [
  {
   "cell_type": "code",
   "execution_count": 2,
   "id": "a115b3f4",
   "metadata": {},
   "outputs": [
    {
     "name": "stdout",
     "output_type": "stream",
     "text": [
      "Product of list elements:  60\n"
     ]
    }
   ],
   "source": [
    "#To calculate the product of elements of a list using lambda and reduce\n",
    "from functools import reduce\n",
    "l=[1,2,2,3,5]\n",
    "prod=reduce(lambda x,y:x*y,l)\n",
    "print(\"Product of list elements: \",prod)"
   ]
  },
  {
   "cell_type": "code",
   "execution_count": null,
   "id": "ed45e179",
   "metadata": {},
   "outputs": [],
   "source": [
    "from functools import reduce\n",
    "n=int(input(\"Enter number of elements in the list : \"))\n",
    "l=[]\n",
    "pri\n",
    "for i in range(n)\n",
    "    x=in\n",
    "\n",
    "\n",
    "l=[1,2,2,3,5]\n",
    "prod=reduce(lambda x,y:x*y,l)\n",
    "print(\"Product of list elements: \",prod)"
   ]
  }
 ],
 "metadata": {
  "kernelspec": {
   "display_name": "Python 3",
   "language": "python",
   "name": "python3"
  },
  "language_info": {
   "codemirror_mode": {
    "name": "ipython",
    "version": 3
   },
   "file_extension": ".py",
   "mimetype": "text/x-python",
   "name": "python",
   "nbconvert_exporter": "python",
   "pygments_lexer": "ipython3",
   "version": "3.6.9"
  }
 },
 "nbformat": 4,
 "nbformat_minor": 5
}
