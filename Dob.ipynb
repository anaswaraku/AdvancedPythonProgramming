{
 "cells": [
  {
   "cell_type": "code",
   "execution_count": 7,
   "id": "44b8326a",
   "metadata": {},
   "outputs": [
    {
     "name": "stdout",
     "output_type": "stream",
     "text": [
      "Enter DOB of person1 in YYYY-MM-DD format\n",
      "2002-12-16\n",
      "Enter DOB of person1 in YYYY-MM-DD format\n",
      "2004-02-09\n",
      "Print person1 is older\n"
     ]
    }
   ],
   "source": [
    "#get DOB of 2 person determine who is older\n",
    "import datetime,calendar\n",
    "def getdob():\n",
    "    date = input()\n",
    "    year, month, day = map(int, date.split('-'))\n",
    "    dob = datetime.date(year, month, day)\n",
    "    return dob\n",
    "def age(dob):\n",
    "    today = datetime.date.today()\n",
    "    age = today.year - dob.year - ((today.month, today.day) < (dob.month, dob.day))\n",
    "    return age\n",
    "\n",
    "print(\"Enter DOB of person1 in YYYY-MM-DD format\")\n",
    "dob1=getdob()\n",
    "print(\"Enter DOB of person1 in YYYY-MM-DD format\")\n",
    "dob2=getdob()\n",
    "if age(dob1)>age(dob2):\n",
    "    print('Print person1 is older')\n",
    "else:\n",
    "    print('Print person2 is older')\n"
   ]
  },
  {
   "cell_type": "code",
   "execution_count": null,
   "id": "6a8c2b86",
   "metadata": {},
   "outputs": [],
   "source": []
  },
  {
   "cell_type": "code",
   "execution_count": null,
   "id": "2969a3df",
   "metadata": {},
   "outputs": [],
   "source": []
  }
 ],
 "metadata": {
  "kernelspec": {
   "display_name": "Python 3",
   "language": "python",
   "name": "python3"
  },
  "language_info": {
   "codemirror_mode": {
    "name": "ipython",
    "version": 3
   },
   "file_extension": ".py",
   "mimetype": "text/x-python",
   "name": "python",
   "nbconvert_exporter": "python",
   "pygments_lexer": "ipython3",
   "version": "3.6.9"
  }
 },
 "nbformat": 4,
 "nbformat_minor": 5
}
