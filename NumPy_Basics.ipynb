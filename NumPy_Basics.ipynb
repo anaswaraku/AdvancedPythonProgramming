{
  "nbformat": 4,
  "nbformat_minor": 0,
  "metadata": {
    "colab": {
      "provenance": [],
      "authorship_tag": "ABX9TyM0+gdNYWkH2SeRihC3l381",
      "include_colab_link": true
    },
    "kernelspec": {
      "name": "python3",
      "display_name": "Python 3"
    },
    "language_info": {
      "name": "python"
    }
  },
  "cells": [
    {
      "cell_type": "markdown",
      "metadata": {
        "id": "view-in-github",
        "colab_type": "text"
      },
      "source": [
        "<a href=\"https://colab.research.google.com/github/anaswaraku/AdvancedPythonProgramming/blob/main/NumPy_Basics.ipynb\" target=\"_parent\"><img src=\"https://colab.research.google.com/assets/colab-badge.svg\" alt=\"Open In Colab\"/></a>"
      ]
    },
    {
      "cell_type": "code",
      "execution_count": 10,
      "metadata": {
        "colab": {
          "base_uri": "https://localhost:8080/"
        },
        "id": "Zb2BHAcIra7z",
        "outputId": "9dac9b36-022e-43cf-cc8b-a0776eeddd8c"
      },
      "outputs": [
        {
          "output_type": "stream",
          "name": "stdout",
          "text": [
            "[[4 3 7]\n",
            " [8 3 1]\n",
            " [1 5 1]]\n"
          ]
        }
      ],
      "source": [
        "import numpy as np\n",
        "import random\n",
        "a = np.array([random.randint(1, 10) for _ in range(3)])\n",
        "b=np.array([random.randint(1, 10) for _ in range(3)])\n",
        "c=np.array([random.randint(1, 10) for _ in range(3)])\n",
        "arr=np.array([a,b,c])\n",
        "print(arr)"
      ]
    },
    {
      "cell_type": "markdown",
      "source": [
        "Write a Python program using NumPy to create a 3x3 matrix with values ranging from 1 to 9.\n"
      ],
      "metadata": {
        "id": "cqSl6PUKrffV"
      }
    },
    {
      "cell_type": "code",
      "source": [
        "import numpy as np\n",
        "\n",
        "matrix = np.arange(1, 10).reshape(3, 3)\n",
        "\n",
        "print(matrix)\n"
      ],
      "metadata": {
        "colab": {
          "base_uri": "https://localhost:8080/"
        },
        "id": "kCFcpb2YuqFn",
        "outputId": "610b7a6b-ae92-4fc7-8910-99e21a2cb5bf"
      },
      "execution_count": 11,
      "outputs": [
        {
          "output_type": "stream",
          "name": "stdout",
          "text": [
            "[[1 2 3]\n",
            " [4 5 6]\n",
            " [7 8 9]]\n"
          ]
        }
      ]
    },
    {
      "cell_type": "markdown",
      "source": [
        "Write a Python program to create a NumPy array and reverse its elements.\n"
      ],
      "metadata": {
        "id": "54I-jk40w0eY"
      }
    },
    {
      "cell_type": "code",
      "source": [
        "arr = np.arange(1,10)\n",
        "print(\"Original array:\", arr)\n",
        "reversed_arr = np.flip(arr)#arr[::-1]\n",
        "print(\"Reversed array:\", reversed_arr)"
      ],
      "metadata": {
        "colab": {
          "base_uri": "https://localhost:8080/"
        },
        "id": "1I9lC76dwooD",
        "outputId": "85549564-db4c-411c-e5e2-265d5a3442d7"
      },
      "execution_count": 15,
      "outputs": [
        {
          "output_type": "stream",
          "name": "stdout",
          "text": [
            "Original array: [1 2 3 4 5 6 7 8 9]\n",
            "Reversed array: [9 8 7 6 5 4 3 2 1]\n"
          ]
        }
      ]
    },
    {
      "cell_type": "markdown",
      "source": [
        "Write a Python program to extract a 2x2 submatrix from a 3x3 matrix using NumPy slicing.\n"
      ],
      "metadata": {
        "id": "pD2n3UPrxGN9"
      }
    },
    {
      "cell_type": "code",
      "source": [
        "import numpy as np\n",
        "\n",
        "matrix = np.array([[1, 2, 3],\n",
        "                   [4, 5, 6],\n",
        "                   [7, 8, 9]])\n",
        "\n",
        "# Slicing a subarray\n",
        "# Get a 2x2 subarray\n",
        "sub_matrix = matrix[0:2, 1:3]\n",
        "#0:2 selects rows 0 and 1.\n",
        "#1:3 selects columns 1 and 2.\n",
        "print(sub_matrix)"
      ],
      "metadata": {
        "colab": {
          "base_uri": "https://localhost:8080/"
        },
        "id": "ddSn-0jVxSPM",
        "outputId": "fb6fd0be-ae13-40cd-b019-f66b5dcfe5a2"
      },
      "execution_count": 20,
      "outputs": [
        {
          "output_type": "stream",
          "name": "stdout",
          "text": [
            "[[2 3]\n",
            " [5 6]]\n"
          ]
        }
      ]
    },
    {
      "cell_type": "markdown",
      "source": [
        "Write a Python program to perform matrix multiplication using NumPy's dot() function."
      ],
      "metadata": {
        "id": "P0z5VOM7x5bO"
      }
    },
    {
      "cell_type": "code",
      "source": [
        "\n",
        "# importing the module\n",
        "import numpy as np\n",
        "\n",
        "# creating two matrices\n",
        "p = [[1, 2], [2, 3]]\n",
        "q = [[4, 5], [6, 7]]\n",
        "print(\"Matrix p :\")\n",
        "print(p)\n",
        "print(\"Matrix q :\")\n",
        "print(q)\n",
        "\n",
        "# computing product\n",
        "result = np.dot(p, q)\n",
        "\n",
        "# printing the result\n",
        "print(\"The matrix multiplication is :\")\n",
        "print(result)"
      ],
      "metadata": {
        "colab": {
          "base_uri": "https://localhost:8080/"
        },
        "id": "OyTCNtXhx5JV",
        "outputId": "5c87f1a2-be31-40e4-f3fe-48278a1c4607"
      },
      "execution_count": 21,
      "outputs": [
        {
          "output_type": "stream",
          "name": "stdout",
          "text": [
            "Matrix p :\n",
            "[[1, 2], [2, 3]]\n",
            "Matrix q :\n",
            "[[4, 5], [6, 7]]\n",
            "The matrix multiplication is :\n",
            "[[16 19]\n",
            " [26 31]]\n"
          ]
        }
      ]
    }
  ]
}