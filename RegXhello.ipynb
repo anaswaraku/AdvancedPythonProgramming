{
  "nbformat": 4,
  "nbformat_minor": 0,
  "metadata": {
    "colab": {
      "provenance": [],
      "authorship_tag": "ABX9TyMZmEJrAaJS3WCa7aPzVorZ",
      "include_colab_link": true
    },
    "kernelspec": {
      "name": "python3",
      "display_name": "Python 3"
    },
    "language_info": {
      "name": "python"
    }
  },
  "cells": [
    {
      "cell_type": "markdown",
      "metadata": {
        "id": "view-in-github",
        "colab_type": "text"
      },
      "source": [
        "<a href=\"https://colab.research.google.com/github/anaswaraku/AdvancedPythonProgramming/blob/main/RegXhello.ipynb\" target=\"_parent\"><img src=\"https://colab.research.google.com/assets/colab-badge.svg\" alt=\"Open In Colab\"/></a>"
      ]
    },
    {
      "cell_type": "markdown",
      "source": [
        "\n",
        "\n",
        "```\n",
        "To detect if a string starts with a specified pattern, such as \"Hello\".\n",
        "```\n",
        "\n"
      ],
      "metadata": {
        "id": "HaJeEzSFY-5g"
      }
    },
    {
      "cell_type": "code",
      "source": [
        "import re\n",
        "txt = input(\"Enter a string: \")\n",
        "\n",
        "x = re.findall(\"^hello\", txt)\n",
        "y = re.findall(\"^Hello\", txt)\n",
        "if x or y:\n",
        "  print(\"Yes, the string starts with 'hello'\")\n",
        "else:\n",
        "  print(\"No match\")"
      ],
      "metadata": {
        "colab": {
          "base_uri": "https://localhost:8080/"
        },
        "id": "HmzW23RHY_I_",
        "outputId": "59db85bc-e40d-4b4c-f63a-5b63a43df341"
      },
      "execution_count": 3,
      "outputs": [
        {
          "output_type": "stream",
          "name": "stdout",
          "text": [
            "Enter a string: Hello IKiran\n",
            "Yes, the string starts with 'hello'\n"
          ]
        }
      ]
    }
  ]
}