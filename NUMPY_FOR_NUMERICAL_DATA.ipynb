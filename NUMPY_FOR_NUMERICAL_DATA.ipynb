{
  "nbformat": 4,
  "nbformat_minor": 0,
  "metadata": {
    "colab": {
      "provenance": [],
      "authorship_tag": "ABX9TyPU8b7QKk+SkXGPOwmtx51d",
      "include_colab_link": true
    },
    "kernelspec": {
      "name": "python3",
      "display_name": "Python 3"
    },
    "language_info": {
      "name": "python"
    }
  },
  "cells": [
    {
      "cell_type": "markdown",
      "metadata": {
        "id": "view-in-github",
        "colab_type": "text"
      },
      "source": [
        "<a href=\"https://colab.research.google.com/github/anaswaraku/AdvancedPythonProgramming/blob/main/NUMPY_FOR_NUMERICAL_DATA.ipynb\" target=\"_parent\"><img src=\"https://colab.research.google.com/assets/colab-badge.svg\" alt=\"Open In Colab\"/></a>"
      ]
    },
    {
      "cell_type": "markdown",
      "source": [
        "Python program to compute the euclidean distance between two NumPy arrays\n"
      ],
      "metadata": {
        "id": "H2hB7zX0n_T8"
      }
    },
    {
      "cell_type": "code",
      "execution_count": 2,
      "metadata": {
        "colab": {
          "base_uri": "https://localhost:8080/"
        },
        "id": "8Rv9zyzZn7qc",
        "outputId": "1c7b9bd0-6523-4a67-d6b5-aa8e61ba6625"
      },
      "outputs": [
        {
          "output_type": "stream",
          "name": "stdout",
          "text": [
            "Euclidean distance: 2.23606797749979\n"
          ]
        }
      ],
      "source": [
        "import numpy as np\n",
        "\n",
        "arr1 = np.array([1, 2, 3])\n",
        "arr2 = np.array([1,1,1])\n",
        "distance = np.linalg.norm(arr1 - arr2)\n",
        "print(f\"Euclidean distance: {distance}\")\n"
      ]
    },
    {
      "cell_type": "markdown",
      "source": [
        "Python program to calculate the determinant of a matrix using NumPy.\n"
      ],
      "metadata": {
        "id": "pbOP9BTIpUwk"
      }
    },
    {
      "cell_type": "code",
      "source": [
        "\n",
        "import numpy as np\n",
        "\n",
        "n_array = np.array([[50, 29], [30, 44]])\n",
        "\n",
        "\n",
        "print(\"Numpy Matrix is:\")\n",
        "print(n_array)\n",
        "\n",
        "det = np.linalg.det(n_array)\n",
        "\n",
        "print(\"\\nDeterminant of given 2X2 matrix:\")\n",
        "print(int(det))"
      ],
      "metadata": {
        "colab": {
          "base_uri": "https://localhost:8080/"
        },
        "id": "lLphazhzpOep",
        "outputId": "05b88f73-50f7-4228-8129-8201eec7c920"
      },
      "execution_count": 3,
      "outputs": [
        {
          "output_type": "stream",
          "name": "stdout",
          "text": [
            "Numpy Matrix is:\n",
            "[[50 29]\n",
            " [30 44]]\n",
            "\n",
            "Determinant of given 2X2 matrix:\n",
            "1330\n"
          ]
        }
      ]
    },
    {
      "cell_type": "markdown",
      "source": [
        "Python program to compute mean, median, mode, standard deviation of a 2D array using NumPy"
      ],
      "metadata": {
        "id": "Nodtis5mpXxJ"
      }
    },
    {
      "cell_type": "code",
      "source": [
        "import numpy as np\n",
        "\n",
        "# Create a 2D array\n",
        "array = np.array([1, 2, 3,4, 5, 6])\n",
        "\n",
        "r1 = np.mean(array)\n",
        "print(\"Mean: \",np.mean(array))\n",
        "print(\"\\nStandard Deviation: \", np.std(array))\n",
        "print(\"\\nMedian: \", np.median(array))\n",
        "\n",
        "from scipy import stats as st\n",
        "print(\"\\nMode: \", st.mode(array))\n",
        "arr = np.array([1, 2, 3, 3, 3, 3, 3, 3, 3, 4, 5, 6])\n",
        "print(\"\\nMode: \", st.mode(arr))"
      ],
      "metadata": {
        "colab": {
          "base_uri": "https://localhost:8080/"
        },
        "id": "MznfTRCKpijS",
        "outputId": "9890e7f7-40e4-4a68-de2b-4a99b6563fec"
      },
      "execution_count": 15,
      "outputs": [
        {
          "output_type": "stream",
          "name": "stdout",
          "text": [
            "Mean:  3.5\n",
            "\n",
            "Standard Deviation:  1.707825127659933\n",
            "\n",
            "Median:  3.5\n",
            "\n",
            "Mode:  ModeResult(mode=1, count=1)\n",
            "\n",
            "Mode:  ModeResult(mode=3, count=7)\n"
          ]
        }
      ]
    }
  ]
}