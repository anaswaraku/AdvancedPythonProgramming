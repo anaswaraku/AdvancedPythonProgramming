{
 "cells": [
  {
   "cell_type": "code",
   "execution_count": 3,
   "id": "61afd74a",
   "metadata": {},
   "outputs": [
    {
     "name": "stdout",
     "output_type": "stream",
     "text": [
      "[2, 4, 6, 8, 10]\n"
     ]
    }
   ],
   "source": [
    "#pgm that returns even numbers from a list of numbers using lambda and filter\n",
    "l=[1,2,3,4,5,6,7,8,9,10]\n",
    "evenlist=filter(lambda x:x%2==0,l)\n",
    "print(list(evenlist))"
   ]
  },
  {
   "cell_type": "code",
   "execution_count": 9,
   "id": "9a4f5b08",
   "metadata": {},
   "outputs": [
    {
     "name": "stdout",
     "output_type": "stream",
     "text": [
      "Enter number of elements in a list: 5\n",
      "Enter list elements \n",
      "\n",
      "1\n",
      "2\n",
      "3\n",
      "4\n",
      "5\n",
      "[1, 2, 3, 4, 5]\n",
      "Filtered List:  [2, 4]\n"
     ]
    }
   ],
   "source": [
    "l=[]\n",
    "n=int(input(\"Enter number of elements in a list: \"))\n",
    "print(\"Enter list elements \\n\")\n",
    "for i in range(0,n):\n",
    "    x=int(input())\n",
    "    l.append(x)\n",
    "print(l)\n",
    "evenlist=filter(lambda x:x%2==0,l)\n",
    "print(\"Filtered List: \",list(evenlist))"
   ]
  },
  {
   "cell_type": "code",
   "execution_count": null,
   "id": "1c750826",
   "metadata": {},
   "outputs": [],
   "source": []
  }
 ],
 "metadata": {
  "kernelspec": {
   "display_name": "Python 3",
   "language": "python",
   "name": "python3"
  },
  "language_info": {
   "codemirror_mode": {
    "name": "ipython",
    "version": 3
   },
   "file_extension": ".py",
   "mimetype": "text/x-python",
   "name": "python",
   "nbconvert_exporter": "python",
   "pygments_lexer": "ipython3",
   "version": "3.6.9"
  }
 },
 "nbformat": 4,
 "nbformat_minor": 5
}
