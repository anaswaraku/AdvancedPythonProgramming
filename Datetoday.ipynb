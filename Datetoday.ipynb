{
 "cells": [
  {
   "cell_type": "code",
   "execution_count": 6,
   "id": "c786f99d",
   "metadata": {},
   "outputs": [
    {
     "name": "stdout",
     "output_type": "stream",
     "text": [
      "Enter a date in YYYY-MM-DD format2004-09-02\n",
      "Date:  2004-02-09 \n",
      "Day:  Monday\n"
     ]
    }
   ],
   "source": [
    "#python program to accept a date from the keyboard and display the day of week\n",
    "import datetime,calendar\n",
    "def getday(date):\n",
    "    year, month, day = map(int, date.split('-'))\n",
    "    date1 = datetime.date(year, month, day)\n",
    "    day = calendar.day_name[date1.weekday()] \n",
    "    print(\"Date: \",date1,\"\\nDay: \",day)\n",
    "    \n",
    "date = input('Enter a date in YYYY-MM-DD format')\n",
    "getday(date)\n"
   ]
  },
  {
   "cell_type": "code",
   "execution_count": null,
   "id": "97f03894",
   "metadata": {},
   "outputs": [],
   "source": []
  }
 ],
 "metadata": {
  "kernelspec": {
   "display_name": "Python 3",
   "language": "python",
   "name": "python3"
  },
  "language_info": {
   "codemirror_mode": {
    "name": "ipython",
    "version": 3
   },
   "file_extension": ".py",
   "mimetype": "text/x-python",
   "name": "python",
   "nbconvert_exporter": "python",
   "pygments_lexer": "ipython3",
   "version": "3.6.9"
  }
 },
 "nbformat": 4,
 "nbformat_minor": 5
}
