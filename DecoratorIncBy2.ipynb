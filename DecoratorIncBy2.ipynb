{
 "cells": [
  {
   "cell_type": "code",
   "execution_count": 31,
   "id": "c47b77fc",
   "metadata": {},
   "outputs": [
    {
     "name": "stdout",
     "output_type": "stream",
     "text": [
      "Value of a =  3 \n",
      "The number is incremented by 2\n",
      "Now a = 7\n"
     ]
    }
   ],
   "source": []
  },
  {
   "cell_type": "code",
   "execution_count": 32,
   "id": "28e314ff",
   "metadata": {},
   "outputs": [
    {
     "name": "stdout",
     "output_type": "stream",
     "text": [
      "Value of a =  3 \n",
      "The number is incremented by 2\n",
      "Now a = 7\n"
     ]
    }
   ],
   "source": [
    "#create a decorator that increases the value of a function by 2\n",
    "def smartinc2(func):\n",
    "    def inner(a):\n",
    "        return a+2\n",
    "    return inner\n",
    "\n",
    "@smartinc2\n",
    "def number(a):\n",
    "    return a\n",
    "\n",
    "print(\"Value of a = \",a,\"\\nThe number is incremented by 2\\nNow a =\", number(5))\n"
   ]
  },
  {
   "cell_type": "code",
   "execution_count": null,
   "id": "a8979126",
   "metadata": {},
   "outputs": [],
   "source": []
  }
 ],
 "metadata": {
  "kernelspec": {
   "display_name": "Python 3",
   "language": "python",
   "name": "python3"
  },
  "language_info": {
   "codemirror_mode": {
    "name": "ipython",
    "version": 3
   },
   "file_extension": ".py",
   "mimetype": "text/x-python",
   "name": "python",
   "nbconvert_exporter": "python",
   "pygments_lexer": "ipython3",
   "version": "3.6.9"
  }
 },
 "nbformat": 4,
 "nbformat_minor": 5
}
