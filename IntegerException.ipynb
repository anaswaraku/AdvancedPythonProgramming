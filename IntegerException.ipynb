{
 "cells": [
  {
   "cell_type": "code",
   "execution_count": 3,
   "id": "c503a405",
   "metadata": {},
   "outputs": [
    {
     "name": "stdout",
     "output_type": "stream",
     "text": [
      "Input an integer: d\n",
      "Invalid Input!!!\n"
     ]
    }
   ],
   "source": [
    "#Python program that prompts the user to input an integer and raises a ValueError exception if the input is not a valid integer\n",
    "try:\n",
    "    a=input(\"Input an integer: \")\n",
    "    intval=int(a)\n",
    "except ValueError:\n",
    "    print(\"Invalid Input!!!\")"
   ]
  }
 ],
 "metadata": {
  "kernelspec": {
   "display_name": "Python 3",
   "language": "python",
   "name": "python3"
  },
  "language_info": {
   "codemirror_mode": {
    "name": "ipython",
    "version": 3
   },
   "file_extension": ".py",
   "mimetype": "text/x-python",
   "name": "python",
   "nbconvert_exporter": "python",
   "pygments_lexer": "ipython3",
   "version": "3.6.9"
  }
 },
 "nbformat": 4,
 "nbformat_minor": 5
}
