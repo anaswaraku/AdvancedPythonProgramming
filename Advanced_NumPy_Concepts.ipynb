{
  "nbformat": 4,
  "nbformat_minor": 0,
  "metadata": {
    "colab": {
      "provenance": [],
      "authorship_tag": "ABX9TyP3UZ0puogCA9le4HbBTIAF",
      "include_colab_link": true
    },
    "kernelspec": {
      "name": "python3",
      "display_name": "Python 3"
    },
    "language_info": {
      "name": "python"
    }
  },
  "cells": [
    {
      "cell_type": "markdown",
      "metadata": {
        "id": "view-in-github",
        "colab_type": "text"
      },
      "source": [
        "<a href=\"https://colab.research.google.com/github/anaswaraku/AdvancedPythonProgramming/blob/main/Advanced_NumPy_Concepts.ipynb\" target=\"_parent\"><img src=\"https://colab.research.google.com/assets/colab-badge.svg\" alt=\"Open In Colab\"/></a>"
      ]
    },
    {
      "cell_type": "markdown",
      "source": [
        "Advanced NumPy Concepts"
      ],
      "metadata": {
        "id": "S1hwdEQk7JSk"
      }
    },
    {
      "cell_type": "code",
      "execution_count": null,
      "metadata": {
        "colab": {
          "base_uri": "https://localhost:8080/"
        },
        "id": "Vqjb007M6_aH",
        "outputId": "4d4539ba-f6ba-47cc-d897-6c9c9cd2e4b2"
      },
      "outputs": [
        {
          "output_type": "stream",
          "name": "stdout",
          "text": [
            "Original Matrix:\n",
            "[[1 2]\n",
            " [3 4]]\n",
            "\n",
            "Inverse Matrix:\n",
            "[[-2.   1. ]\n",
            " [ 1.5 -0.5]]\n"
          ]
        }
      ],
      "source": [
        "\n",
        "import numpy as np\n",
        "\n",
        "\n",
        "matrix = np.array([[1, 2], [3, 4]])\n",
        "\n",
        "inverse_matrix = np.linalg.inv(matrix)\n",
        "print(\"Original Matrix:\")\n",
        "print(matrix)\n",
        "print(\"\\nInverse Matrix:\")\n",
        "print(inverse_matrix)\n"
      ]
    },
    {
      "cell_type": "markdown",
      "source": [
        "Matrix, Eigenvalues and Eigenvectors\n",
        "Write a Python program to create a matrix and apply all matrix operations"
      ],
      "metadata": {
        "id": "vFMIQffV76pt"
      }
    },
    {
      "cell_type": "code",
      "source": [
        "import numpy as np\n",
        "\n",
        "# Create a matrix\n",
        "A = np.array([[1, 2], [3, 4]])\n",
        "B = np.array([[5, 6], [7, 8]])\n",
        "\n",
        "# Print the matrix\n",
        "print(\"Matrix A:\\n\", A)\n",
        "print(\"Matrix B:\\n\", B)\n",
        "\n",
        "# Matrix operations\n",
        "\n",
        "# Addition\n",
        "print(\"Addition:\\n\", A + B)\n",
        "\n",
        "# Subtraction\n",
        "print(\"Subtraction:\\n\", A - B)\n",
        "\n",
        "# Multiplication\n",
        "print(\"Multiplication:\\n\", A @ B)\n",
        "\n",
        "# Transpose\n",
        "print(\"Transpose:\\n\", A.T)\n",
        "\n",
        "# Determinant\n",
        "print(\"Determinant:\\n\", np.linalg.det(A))\n",
        "\n",
        "# Inverse\n",
        "print(\"Inverse:\\n\", np.linalg.inv(A))"
      ],
      "metadata": {
        "colab": {
          "base_uri": "https://localhost:8080/"
        },
        "id": "5Qzt_M8T79wY",
        "outputId": "a6a462d4-9543-4efe-b755-55f0016fa698"
      },
      "execution_count": null,
      "outputs": [
        {
          "output_type": "stream",
          "name": "stdout",
          "text": [
            "Matrix A:\n",
            " [[1 2]\n",
            " [3 4]]\n",
            "Matrix B:\n",
            " [[5 6]\n",
            " [7 8]]\n",
            "Addition:\n",
            " [[ 6  8]\n",
            " [10 12]]\n",
            "Subtraction:\n",
            " [[-4 -4]\n",
            " [-4 -4]]\n",
            "Multiplication:\n",
            " [[19 22]\n",
            " [43 50]]\n",
            "Transpose:\n",
            " [[1 3]\n",
            " [2 4]]\n",
            "Determinant:\n",
            " -2.0000000000000004\n",
            "Inverse:\n",
            " [[-2.   1. ]\n",
            " [ 1.5 -0.5]]\n"
          ]
        }
      ]
    },
    {
      "cell_type": "code",
      "source": [
        "# Eigenvalues and Eigenvectors\n",
        "eigenvalues, eigenvectors = np.linalg.eig(A)\n",
        "print(\"Eigenvalues:\\n\", eigenvalues)\n",
        "print(\"Eigenvectors:\\n\", eigenvectors)"
      ],
      "metadata": {
        "colab": {
          "base_uri": "https://localhost:8080/"
        },
        "id": "nDTK4iUN8mEJ",
        "outputId": "644a2a81-393c-4432-84a2-733caef5ff31"
      },
      "execution_count": null,
      "outputs": [
        {
          "output_type": "stream",
          "name": "stdout",
          "text": [
            "Eigenvalues:\n",
            " [-0.37228132  5.37228132]\n",
            "Eigenvectors:\n",
            " [[-0.82456484 -0.41597356]\n",
            " [ 0.56576746 -0.90937671]]\n"
          ]
        }
      ]
    },
    {
      "cell_type": "markdown",
      "source": [
        "Solving Linear Equations\n",
        "Write a Python program to solve a system of linear equations using NumPy. Solve the system:\n",
        "2x + 3y = 5\n",
        "4x + y = 6"
      ],
      "metadata": {
        "id": "qaHk5Fqt8WKU"
      }
    },
    {
      "cell_type": "code",
      "source": [
        "import numpy as np\n",
        "\n",
        "# Define the coefficients matrix A and the constants vector b\n",
        "A = np.array([[2, 3], [4, 1]])\n",
        "b = np.array([5, 6])\n",
        "\n",
        "# Solve the system of equations using NumPy's solve function\n",
        "x = np.linalg.solve(A, b)\n",
        "\n",
        "# Print the solution\n",
        "print(x)"
      ],
      "metadata": {
        "colab": {
          "base_uri": "https://localhost:8080/"
        },
        "id": "m3A3Qrhv8uUt",
        "outputId": "98e90d80-961c-40d1-a2b0-179f2feb54b0"
      },
      "execution_count": null,
      "outputs": [
        {
          "output_type": "stream",
          "name": "stdout",
          "text": [
            "[1.3 0.8]\n"
          ]
        }
      ]
    },
    {
      "cell_type": "markdown",
      "source": [
        "Random Sampling\n",
        "Write a Python program to generate a 5x5 matrix of random numbers from a normal distribution using NumPy."
      ],
      "metadata": {
        "id": "copWsuG59ms4"
      }
    },
    {
      "cell_type": "code",
      "source": [
        "import numpy as np\n",
        "\n",
        "matrix = np.random.normal(size=(5, 5))\n",
        "\n",
        "print(matrix)\n"
      ],
      "metadata": {
        "colab": {
          "base_uri": "https://localhost:8080/"
        },
        "id": "NX_bTPG69m7-",
        "outputId": "46d1d170-c7ff-4e4c-cb9d-27d9e2267a7f"
      },
      "execution_count": 7,
      "outputs": [
        {
          "output_type": "stream",
          "name": "stdout",
          "text": [
            "[[-1.70135835 -0.126137   -0.99755167  0.55633669 -0.13175698]\n",
            " [ 0.33948482  0.96817551  0.15721856 -1.07569504  0.12432962]\n",
            " [ 0.27750946 -0.83079599  0.22532562  0.54045809  0.45141828]\n",
            " [-1.07032429 -1.85327513  0.69158817 -0.26127296  1.65705103]\n",
            " [ 0.91333613 -0.34297368  0.26852973 -0.63265104  1.02843662]]\n"
          ]
        }
      ]
    },
    {
      "cell_type": "markdown",
      "source": [
        "Statistical Functions\n",
        "Write a Python program using NumPy to calculate the mean, median, and standard deviation of an array of numbers."
      ],
      "metadata": {
        "id": "C4ri5fV9-kDI"
      }
    },
    {
      "cell_type": "code",
      "source": [
        "import numpy as np\n",
        "\n",
        "# create a 1D array with 5 elements\n",
        "array1 = np.array([1, 2, 3, 4, 5])\n",
        "\n",
        "median = np.median(array1)\n",
        "print(median)\n",
        "mean = np.mean(array1)\n",
        "print(mean)\n",
        "std = np.std(array1)\n",
        "print(std)"
      ],
      "metadata": {
        "colab": {
          "base_uri": "https://localhost:8080/"
        },
        "id": "5fiwTNSE-okp",
        "outputId": "4f24a466-ed02-4e31-af08-e771ae06815f"
      },
      "execution_count": 8,
      "outputs": [
        {
          "output_type": "stream",
          "name": "stdout",
          "text": [
            "3.0\n",
            "3.0\n",
            "1.4142135623730951\n"
          ]
        }
      ]
    }
  ]
}