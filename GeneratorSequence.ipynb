{
 "cells": [
  {
   "cell_type": "code",
   "execution_count": 4,
   "id": "46e97482",
   "metadata": {},
   "outputs": [
    {
     "name": "stdout",
     "output_type": "stream",
     "text": [
      "Input two numbers: \n",
      "1\n",
      "10\n",
      "Sequence\n",
      "1\n",
      "2\n",
      "3\n",
      "4\n",
      "5\n",
      "6\n",
      "7\n",
      "8\n",
      "9\n",
      "10\n"
     ]
    }
   ],
   "source": [
    "#create a generator that returns a sequence of numbers from x to y\n",
    "def seq(x,y):\n",
    "    a=min(x,y)\n",
    "    b=max(x,y)\n",
    "    print(\"Sequence\")\n",
    "    while a<=b:\n",
    "        yield a\n",
    "        a+=1\n",
    "        \n",
    "print(\"Input two numbers: \")\n",
    "x=int(input())\n",
    "y=int(input())\n",
    "\n",
    "for a in seq(x,y):\n",
    "    print(a)"
   ]
  }
 ],
 "metadata": {
  "kernelspec": {
   "display_name": "Python 3",
   "language": "python",
   "name": "python3"
  },
  "language_info": {
   "codemirror_mode": {
    "name": "ipython",
    "version": 3
   },
   "file_extension": ".py",
   "mimetype": "text/x-python",
   "name": "python",
   "nbconvert_exporter": "python",
   "pygments_lexer": "ipython3",
   "version": "3.6.9"
  }
 },
 "nbformat": 4,
 "nbformat_minor": 5
}
