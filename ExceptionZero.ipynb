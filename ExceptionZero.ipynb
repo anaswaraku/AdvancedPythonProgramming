{
 "cells": [
  {
   "cell_type": "code",
   "execution_count": 3,
   "id": "2a069fde",
   "metadata": {},
   "outputs": [
    {
     "name": "stdout",
     "output_type": "stream",
     "text": [
      "Catched Error!!!!Division by Zero\n"
     ]
    }
   ],
   "source": [
    "#program to handle a ZeroDivision Error exception\n",
    "try:\n",
    "    a=10\n",
    "    b=0\n",
    "    print(a/b)\n",
    "except ZeroDivisionError: \n",
    "    print(\"Catched Error!!!!Division by Zero\")"
   ]
  },
  {
   "cell_type": "code",
   "execution_count": 4,
   "id": "50f29624",
   "metadata": {},
   "outputs": [
    {
     "name": "stdout",
     "output_type": "stream",
     "text": [
      "Enter Numerator: 2\n",
      "Enter Denominator: 0\n",
      "Division by Zero\n"
     ]
    }
   ],
   "source": [
    "#program to handle a ZeroDivision Error exception\n",
    "def zerodiv(a,b):\n",
    "    try:\n",
    "        print(\"a/b)\n",
    "    except ZeroDivisionError: \n",
    "        print(\"Division by Zero\")\n",
    "a=int(input(\"Enter Numerator: \"))\n",
    "b=int(input(\"Enter Denominator: \"))\n",
    "zerodiv(a,b)"
   ]
  },
  {
   "cell_type": "code",
   "execution_count": null,
   "id": "6c14443e",
   "metadata": {},
   "outputs": [],
   "source": []
  }
 ],
 "metadata": {
  "kernelspec": {
   "display_name": "Python 3",
   "language": "python",
   "name": "python3"
  },
  "language_info": {
   "codemirror_mode": {
    "name": "ipython",
    "version": 3
   },
   "file_extension": ".py",
   "mimetype": "text/x-python",
   "name": "python",
   "nbconvert_exporter": "python",
   "pygments_lexer": "ipython3",
   "version": "3.6.9"
  }
 },
 "nbformat": 4,
 "nbformat_minor": 5
}
