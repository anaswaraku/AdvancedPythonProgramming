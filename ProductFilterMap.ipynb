{
 "cells": [
  {
   "cell_type": "code",
   "execution_count": 2,
   "id": "c2198c77",
   "metadata": {},
   "outputs": [
    {
     "name": "stdout",
     "output_type": "stream",
     "text": [
      "[2, 4, 6, 8, 10, 12]\n"
     ]
    }
   ],
   "source": [
    "#find product of elements of two list using lambda and map\n",
    "l1=[1,2,3,4,5,6]\n",
    "l2=[2,2,2,2,2,2]\n",
    "result=map(lambda x,y:x*y,l1,l2)\n",
    "print(list(result))"
   ]
  },
  {
   "cell_type": "code",
   "execution_count": null,
   "id": "fb9f4233",
   "metadata": {},
   "outputs": [
    {
     "name": "stdout",
     "output_type": "stream",
     "text": [
      "Enter length of 2 lists: 3\n",
      "Enter list elements \n",
      "\n",
      "1\n",
      "2\n",
      "3\n",
      "Enter list elements \n",
      "\n"
     ]
    }
   ],
   "source": [
    "def getlist(n):\n",
    "    print(\"Enter list elements \\n\")\n",
    "    l=[]\n",
    "    for i in range(n):\n",
    "        x=int(input())\n",
    "        l.append(x)\n",
    "    return l\n",
    "n=int(input(\"Enter length of 2 lists: \"))\n",
    "l1=getlist(n)\n",
    "l2=getlist(n)\n",
    "result=map(lambda x,y:x*y,l1,l2)\n",
    "print(list(result))"
   ]
  },
  {
   "cell_type": "code",
   "execution_count": null,
   "id": "94b4859b",
   "metadata": {},
   "outputs": [],
   "source": []
  }
 ],
 "metadata": {
  "kernelspec": {
   "display_name": "Python 3",
   "language": "python",
   "name": "python3"
  },
  "language_info": {
   "codemirror_mode": {
    "name": "ipython",
    "version": 3
   },
   "file_extension": ".py",
   "mimetype": "text/x-python",
   "name": "python",
   "nbconvert_exporter": "python",
   "pygments_lexer": "ipython3",
   "version": "3.6.9"
  }
 },
 "nbformat": 4,
 "nbformat_minor": 5
}
