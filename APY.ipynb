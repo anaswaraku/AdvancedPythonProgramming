{
  "nbformat": 4,
  "nbformat_minor": 0,
  "metadata": {
    "colab": {
      "provenance": [],
      "authorship_tag": "ABX9TyM2VCqDNMnrce6U1vc688jP",
      "include_colab_link": true
    },
    "kernelspec": {
      "name": "python3",
      "display_name": "Python 3"
    },
    "language_info": {
      "name": "python"
    }
  },
  "cells": [
    {
      "cell_type": "markdown",
      "metadata": {
        "id": "view-in-github",
        "colab_type": "text"
      },
      "source": [
        "<a href=\"https://colab.research.google.com/github/anaswaraku/AdvancedPythonProgramming/blob/main/APY.ipynb\" target=\"_parent\"><img src=\"https://colab.research.google.com/assets/colab-badge.svg\" alt=\"Open In Colab\"/></a>"
      ]
    },
    {
      "cell_type": "markdown",
      "source": [
        "Find all pairs in the list whose sum equals to a given number"
      ],
      "metadata": {
        "id": "vVwwdyCpI8mq"
      }
    },
    {
      "cell_type": "code",
      "execution_count": null,
      "metadata": {
        "colab": {
          "base_uri": "https://localhost:8080/"
        },
        "id": "lMbgAN5cCLG8",
        "outputId": "b1be6817-af89-4f16-c392-2778ca9048c6"
      },
      "outputs": [
        {
          "output_type": "stream",
          "name": "stdout",
          "text": [
            "Enter a number : 16\n",
            "[(10, 6), (8, 8)]\n"
          ]
        }
      ],
      "source": [
        "n = int(input(\"Enter a number : \"))\n",
        "l = [10,8,6,12,1,5]\n",
        "lt=[]\n",
        "for i in l:\n",
        "  for j in l:\n",
        "    if i+j==n and (j,i) not in lt:\n",
        "        lt.append((i,j))\n",
        "print(lt)\n"
      ]
    },
    {
      "cell_type": "markdown",
      "source": [
        "Program to accept elements in the form of tuples and display their sum and average"
      ],
      "metadata": {
        "id": "Vx-G-4e-JHVY"
      }
    },
    {
      "cell_type": "code",
      "source": [
        "t = input(\"Enter numbers separated using commas: \")\n",
        "t = tuple(map(int, t.split(',')))\n",
        "sum = sum(t)\n",
        "avg = sum/len(t)\n",
        "print(t,\"\\n\",\"Sum = \", sum,\"\\n\",\"Average = \",avg)"
      ],
      "metadata": {
        "colab": {
          "base_uri": "https://localhost:8080/"
        },
        "id": "a9X-sMx1JVoU",
        "outputId": "565697d7-6d31-42ce-dd0b-31728d3d5506"
      },
      "execution_count": null,
      "outputs": [
        {
          "output_type": "stream",
          "name": "stdout",
          "text": [
            "Enter numbers separated using commas: 1,2,3,4,5\n",
            "(1, 2, 3, 4, 5) \n",
            " Sum =  15 \n",
            " Average =  3.0\n"
          ]
        }
      ]
    },
    {
      "cell_type": "markdown",
      "source": [
        " to sort the elements of a dictionary based on a key and value"
      ],
      "metadata": {
        "id": "TrGteglyltwe"
      }
    },
    {
      "cell_type": "code",
      "source": [
        "dict={1:'Apple',2:'Mango ',3:'Banana '}\n",
        "#using values\n",
        "print(\"Sorting dictionary using keys :\",sorted(dict.items(), key=lambda x: x[1]))\n",
        "print(\"Sorting dictionary using values :\",sorted(dict.items(), key=lambda x: x[0]))"
      ],
      "metadata": {
        "colab": {
          "base_uri": "https://localhost:8080/"
        },
        "id": "oBu7SHxHl2KK",
        "outputId": "ff2257e6-4228-4eb8-cf7a-4da81711650f"
      },
      "execution_count": 4,
      "outputs": [
        {
          "output_type": "stream",
          "name": "stdout",
          "text": [
            "Sorting dictionary using keys : [(1, 'Apple'), (3, 'Banana '), (2, 'Mango ')]\n",
            "Sorting dictionary using values : [(1, 'Apple'), (2, 'Mango '), (3, 'Banana ')]\n"
          ]
        }
      ]
    },
    {
      "cell_type": "markdown",
      "source": [
        "python program to know the local date and time"
      ],
      "metadata": {
        "id": "qZgrYOjjvCpE"
      }
    },
    {
      "cell_type": "code",
      "source": [
        "import datetime\n",
        "\n",
        "# using now() to get current time\n",
        "current_time = datetime.datetime.now()\n",
        "print(\"Current time:\", current_time)"
      ],
      "metadata": {
        "colab": {
          "base_uri": "https://localhost:8080/"
        },
        "id": "TXK6dejYvIFi",
        "outputId": "d2e227e9-7df9-44ae-9040-4fd10795efff"
      },
      "execution_count": 10,
      "outputs": [
        {
          "output_type": "stream",
          "name": "stdout",
          "text": [
            "Current time: 2024-08-10 00:49:19.651567\n"
          ]
        }
      ]
    }
  ]
}