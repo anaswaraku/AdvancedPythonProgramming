{
 "cells": [
  {
   "cell_type": "code",
   "execution_count": 1,
   "id": "ff063955",
   "metadata": {},
   "outputs": [
    {
     "name": "stdout",
     "output_type": "stream",
     "text": [
      "Error Catched!!! List index out of bounds\n"
     ]
    }
   ],
   "source": [
    "#program that executes an operation on a list and handles an Index Error exception if the index is out of range\n",
    "try:\n",
    "    l=[1,2,3,4]\n",
    "    print(l[100])\n",
    "except IndexError:\n",
    "    print(\"Error Catched!!! List index out of bounds\")"
   ]
  },
  {
   "cell_type": "code",
   "execution_count": 2,
   "id": "d2604149",
   "metadata": {},
   "outputs": [
    {
     "name": "stdout",
     "output_type": "stream",
     "text": [
      "5 elements for list\n",
      "\n",
      "1\n",
      "2\n",
      "3\n",
      "53\n",
      "63\n",
      "Try to acces 100th elemnt of the list\n",
      "\n",
      "Error Catched!!! List index out of bounds\n"
     ]
    }
   ],
   "source": [
    "#program that executes an operation on a list and handles an Index Error exception if the index is out of range\n",
    "try:\n",
    "    print(\"5 elements for list\\n\")\n",
    "    l=[]\n",
    "    for i in range(5):\n",
    "        x=int(input())\n",
    "        l.append(x)\n",
    "    print(\"Try to acces 100th elemnt of the list\\n\")\n",
    "    print(l[100])\n",
    "except IndexError:\n",
    "    print(\"Error Catched!!! List index out of bounds\")"
   ]
  },
  {
   "cell_type": "code",
   "execution_count": null,
   "id": "5c3185a6",
   "metadata": {},
   "outputs": [],
   "source": []
  }
 ],
 "metadata": {
  "kernelspec": {
   "display_name": "Python 3",
   "language": "python",
   "name": "python3"
  },
  "language_info": {
   "codemirror_mode": {
    "name": "ipython",
    "version": 3
   },
   "file_extension": ".py",
   "mimetype": "text/x-python",
   "name": "python",
   "nbconvert_exporter": "python",
   "pygments_lexer": "ipython3",
   "version": "3.6.9"
  }
 },
 "nbformat": 4,
 "nbformat_minor": 5
}
