{
  "nbformat": 4,
  "nbformat_minor": 0,
  "metadata": {
    "colab": {
      "provenance": [],
      "authorship_tag": "ABX9TyNth9xzftmTx7Y/pTzdMsgZ",
      "include_colab_link": true
    },
    "kernelspec": {
      "name": "python3",
      "display_name": "Python 3"
    },
    "language_info": {
      "name": "python"
    }
  },
  "cells": [
    {
      "cell_type": "markdown",
      "metadata": {
        "id": "view-in-github",
        "colab_type": "text"
      },
      "source": [
        "<a href=\"https://colab.research.google.com/github/anaswaraku/AdvancedPythonProgramming/blob/main/RegX.ipynb\" target=\"_parent\"><img src=\"https://colab.research.google.com/assets/colab-badge.svg\" alt=\"Open In Colab\"/></a>"
      ]
    },
    {
      "cell_type": "markdown",
      "source": [
        "\n",
        "\n",
        "```\n",
        "To detect if a string starts with a specified pattern, such as \"Hello\".\n",
        "```\n",
        "\n"
      ],
      "metadata": {
        "id": "HaJeEzSFY-5g"
      }
    },
    {
      "cell_type": "code",
      "source": [
        "import re\n",
        "txt = input(\"Enter a string: \")\n",
        "\n",
        "x = re.findall(\"^hello\", txt)\n",
        "y = re.findall(\"^Hello\", txt)\n",
        "if x or y:\n",
        "  print(\"Yes, the string starts with 'hello'\")\n",
        "else:\n",
        "  print(\"No match\")"
      ],
      "metadata": {
        "colab": {
          "base_uri": "https://localhost:8080/"
        },
        "id": "HmzW23RHY_I_",
        "outputId": "59db85bc-e40d-4b4c-f63a-5b63a43df341"
      },
      "execution_count": null,
      "outputs": [
        {
          "output_type": "stream",
          "name": "stdout",
          "text": [
            "Enter a string: Hello IKiran\n",
            "Yes, the string starts with 'hello'\n"
          ]
        }
      ]
    },
    {
      "cell_type": "markdown",
      "source": [
        "\n",
        "Python program that finds and prints all occurrences of a specified substring (e.g., \"abc\") within a given string.\n"
      ],
      "metadata": {
        "id": "Q6nhfKwdlrzo"
      }
    },
    {
      "cell_type": "code",
      "source": [
        "import re\n",
        "\n",
        "txt = input(\"Enter a string: \")\n",
        "substring = input(\"Enter the substring to search for: \")\n",
        "\n",
        "x = re.findall(substring, txt)\n",
        "\n",
        "if x:\n",
        "  print(\"Occurrences of the substring:\")\n",
        "  for match in x:\n",
        "    print(match)\n",
        "else:\n",
        "  print(\"No match found.\")\n"
      ],
      "metadata": {
        "colab": {
          "base_uri": "https://localhost:8080/"
        },
        "id": "eK4guPvzl9K2",
        "outputId": "aab37559-5154-4b6f-b5ee-c0658be33be4"
      },
      "execution_count": 2,
      "outputs": [
        {
          "output_type": "stream",
          "name": "stdout",
          "text": [
            "Enter a string: character char ccbhch\n",
            "Enter the substring to search for: cc\n",
            "Occurrences of the substring:\n",
            "cc\n"
          ]
        }
      ]
    },
    {
      "cell_type": "markdown",
      "source": [
        "Python program that replaces all instances of a specified word (e.g., \"old\") in a string with another word (e.g., \"new\").\n"
      ],
      "metadata": {
        "id": "VkHaS3Pqmn0H"
      }
    },
    {
      "cell_type": "code",
      "source": [
        "import re\n",
        "\n",
        "txt = input(\"Enter a string: \")\n",
        "old_word = input(\"Enter the word to replace: \")\n",
        "new_word = input(\"Enter the new word: \")\n",
        "\n",
        "new_txt = re.sub(old_word, new_word, txt)\n",
        "\n",
        "print(\"Modified string:\", new_txt)\n"
      ],
      "metadata": {
        "colab": {
          "base_uri": "https://localhost:8080/"
        },
        "id": "KxnIk5eRmpMP",
        "outputId": "8701534c-4ce6-4216-da24-5a436e55f74c"
      },
      "execution_count": 4,
      "outputs": [
        {
          "output_type": "stream",
          "name": "stdout",
          "text": [
            "Enter a string: Hey I'm minnu\n",
            "Enter the word to replace: minnu\n",
            "Enter the new word: Anaswara\n",
            "Modified string: Hey I'm Anaswara\n"
          ]
        }
      ]
    },
    {
      "cell_type": "markdown",
      "source": [
        "Python program that splits a string based on a delimiter (e.g., commas, semicolons) using regular expressions"
      ],
      "metadata": {
        "id": "TPmmByionG61"
      }
    },
    {
      "cell_type": "code",
      "source": [
        "import re\n",
        "\n",
        "txt = input(\"Enter a string: \")\n",
        "delimiter = input(\"Enter the delimiter to split by: \")\n",
        "\n",
        "x = re.split(delimiter, txt)\n",
        "\n",
        "print(\"Split string:\", x)\n"
      ],
      "metadata": {
        "colab": {
          "base_uri": "https://localhost:8080/"
        },
        "id": "dvzqsw6CnD8M",
        "outputId": "ba64eafa-b500-4a69-e0eb-53627601b069"
      },
      "execution_count": 5,
      "outputs": [
        {
          "output_type": "stream",
          "name": "stdout",
          "text": [
            "Enter a string: Ana;sw;ara.\n",
            "Enter the delimiter to split by: ;\n",
            "Split string: ['Ana', 'sw', 'ara.']\n"
          ]
        }
      ]
    }
  ]
}